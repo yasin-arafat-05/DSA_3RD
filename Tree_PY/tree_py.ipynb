{
 "cells": [
  {
   "cell_type": "markdown",
   "metadata": {},
   "source": [
    "---\n",
    "\n",
    "[video_link](https://www.youtube.com/watch?v=4r_XR9fUPhQ&list=PLeo1K3hjS3uu_n_a__MI_KktGTLYopZ12&index=10&ab_channel=codebasics)\n",
    "\n",
    "\n",
    "\n",
    "# 1st we will make a general tree node. i node have 3 things\n",
    "\n",
    "-   node value\n",
    "-   node parent (only one parent)\n",
    "-   node child  (multiple child)\n",
    "---\n",
    "\n",
    "\n",
    "<br><br>\n",
    "\n",
    "---\n",
    "\n",
    "# add_child\n",
    "<img src=\"photo_01.jpg\" width = \"800\" height = \"500\">\n",
    "\n",
    "---\n",
    "\n",
    "<br> <br> \n",
    "\n",
    "# How to find the level of tree?\n",
    "\n",
    "`Count the number of parent.`\n",
    "\n",
    "<br> <br>\n",
    "\n"
   ]
  },
  {
   "cell_type": "code",
   "execution_count": 13,
   "metadata": {},
   "outputs": [],
   "source": [
    "class TreeNode:\n",
    "    \n",
    "    #__________constructor_____________\n",
    "    def __init__(self,data) -> None:\n",
    "        self.data = data \n",
    "        self.children = []\n",
    "        self.parent = None\n",
    "        \n",
    "    #____________add a child node to a tree__________\n",
    "    def add_child(self,children):\n",
    "        children.parent = self\n",
    "        self.children.append(children)\n",
    "        \n",
    "    #_____________print the element____________________\n",
    "    def get_level(self):\n",
    "        level = 0 \n",
    "        p = self.parent\n",
    "        while p:\n",
    "            level +=1\n",
    "            p = p.parent\n",
    "        return level\n",
    "    \n",
    "    #_____________print the element____________________\n",
    "    def print_tree(self):\n",
    "        spaces = \" \"* self.get_level() * 3 \n",
    "        prefix = spaces + \"|__\" if self.parent else \"\"\n",
    "        print(prefix+self.data)\n",
    "        if self.children:\n",
    "            for child in self.children:\n",
    "                child.print_tree()\n",
    "    "
   ]
  },
  {
   "cell_type": "code",
   "execution_count": 14,
   "metadata": {},
   "outputs": [],
   "source": [
    "def  build_product_tree():\n",
    "    \n",
    "    root = TreeNode(\"Electronics\")\n",
    "    \n",
    "    \n",
    "    laptop = TreeNode(\"Laptops\")\n",
    "    laptop.add_child(TreeNode(\"Mac\"))\n",
    "    laptop.add_child(TreeNode(\"Surface\"))\n",
    "    laptop.add_child(TreeNode(\"Thinkpad\"))\n",
    "    \n",
    "    \n",
    "    cellphone = TreeNode(\"Cell Phone\")\n",
    "    cellphone.add_child(TreeNode(\"iphone\"))\n",
    "    cellphone.add_child(TreeNode(\"Google Pixel\"))\n",
    "    cellphone.add_child(TreeNode(\"Vivo\"))\n",
    "    \n",
    "    tv = TreeNode(\"TV\")\n",
    "    tv.add_child(TreeNode(\"Samsung\"))\n",
    "    tv.add_child(TreeNode(\"LG\"))\n",
    "    \n",
    "    \n",
    "    root.add_child(laptop)\n",
    "    root.add_child(cellphone)\n",
    "    root.add_child(tv)\n",
    "    \n",
    "    print(f\" level of tv = {tv.get_level()}\")\n",
    "    \n",
    "    return root"
   ]
  },
  {
   "cell_type": "code",
   "execution_count": 15,
   "metadata": {},
   "outputs": [
    {
     "name": "stdout",
     "output_type": "stream",
     "text": [
      " level of tv = 1\n",
      "\n",
      "\n",
      "Electronics\n",
      "   |__Laptops\n",
      "      |__Mac\n",
      "      |__Surface\n",
      "      |__Thinkpad\n",
      "   |__Cell Phone\n",
      "      |__iphone\n",
      "      |__Google Pixel\n",
      "      |__Vivo\n",
      "   |__TV\n",
      "      |__Samsung\n",
      "      |__LG\n"
     ]
    }
   ],
   "source": [
    "\n",
    "if __name__ == \"__main__\":\n",
    "    rootNode = build_product_tree()\n",
    "    print()\n",
    "    print()\n",
    "    rootNode.print_tree()\n",
    "   "
   ]
  }
 ],
 "metadata": {
  "kernelspec": {
   "display_name": "Python 3",
   "language": "python",
   "name": "python3"
  },
  "language_info": {
   "codemirror_mode": {
    "name": "ipython",
    "version": 3
   },
   "file_extension": ".py",
   "mimetype": "text/x-python",
   "name": "python",
   "nbconvert_exporter": "python",
   "pygments_lexer": "ipython3",
   "version": "3.11.8"
  }
 },
 "nbformat": 4,
 "nbformat_minor": 2
}
